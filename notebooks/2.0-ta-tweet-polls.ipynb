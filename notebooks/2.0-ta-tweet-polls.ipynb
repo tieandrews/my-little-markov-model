{
 "cells": [
  {
   "cell_type": "code",
   "execution_count": 1,
   "metadata": {},
   "outputs": [],
   "source": [
    "import os\n",
    "import sys\n",
    "\n",
    "import tweepy as tw\n",
    "\n",
    "cur_dir = os.getcwd()\n",
    "SRC_PATH = cur_dir[\n",
    "    : cur_dir.index(\"my-little-markov-model\") + len(\"my-little-markov-model\")\n",
    "]\n",
    "\n",
    "if SRC_PATH not in sys.path:\n",
    "    sys.path.append(SRC_PATH)\n",
    "\n",
    "from src.twitter.twitter_bot import TwitterBot"
   ]
  },
  {
   "cell_type": "code",
   "execution_count": 2,
   "metadata": {},
   "outputs": [],
   "source": [
    "twit_bot = TwitterBot()\n",
    "twit_bot.create_authenticate_api()"
   ]
  },
  {
   "cell_type": "code",
   "execution_count": 3,
   "metadata": {},
   "outputs": [
    {
     "ename": "KeyError",
     "evalue": "'id'",
     "output_type": "error",
     "traceback": [
      "\u001b[1;31m---------------------------------------------------------------------------\u001b[0m",
      "\u001b[1;31mKeyError\u001b[0m                                  Traceback (most recent call last)",
      "Cell \u001b[1;32mIn [3], line 1\u001b[0m\n\u001b[1;32m----> 1\u001b[0m tw\u001b[39m.\u001b[39;49mPoll(\n\u001b[0;32m      2\u001b[0m     data\u001b[39m=\u001b[39;49m{\u001b[39m\"\u001b[39;49m\u001b[39moptions\u001b[39;49m\u001b[39m\"\u001b[39;49m: [\n\u001b[0;32m      3\u001b[0m                    {\n\u001b[0;32m      4\u001b[0m                        \u001b[39m\"\u001b[39;49m\u001b[39mposition\u001b[39;49m\u001b[39m\"\u001b[39;49m: \u001b[39m1\u001b[39;49m,\n\u001b[0;32m      5\u001b[0m                        \u001b[39m\"\u001b[39;49m\u001b[39mlabel\u001b[39;49m\u001b[39m\"\u001b[39;49m: \u001b[39m\"\u001b[39;49m\u001b[39m“C Sharp”\u001b[39;49m\u001b[39m\"\u001b[39;49m,\n\u001b[0;32m      6\u001b[0m                        \u001b[39m\"\u001b[39;49m\u001b[39mvotes\u001b[39;49m\u001b[39m\"\u001b[39;49m: \u001b[39m795\u001b[39;49m\n\u001b[0;32m      7\u001b[0m                    },\n\u001b[0;32m      8\u001b[0m                    {\n\u001b[0;32m      9\u001b[0m                        \u001b[39m\"\u001b[39;49m\u001b[39mposition\u001b[39;49m\u001b[39m\"\u001b[39;49m: \u001b[39m2\u001b[39;49m,\n\u001b[0;32m     10\u001b[0m                        \u001b[39m\"\u001b[39;49m\u001b[39mlabel\u001b[39;49m\u001b[39m\"\u001b[39;49m: \u001b[39m\"\u001b[39;49m\u001b[39m“C Hashtag”\u001b[39;49m\u001b[39m\"\u001b[39;49m,\n\u001b[0;32m     11\u001b[0m                        \u001b[39m\"\u001b[39;49m\u001b[39mvotes\u001b[39;49m\u001b[39m\"\u001b[39;49m: \u001b[39m156\u001b[39;49m\n\u001b[0;32m     12\u001b[0m                    }\n\u001b[0;32m     13\u001b[0m                ]}\n\u001b[0;32m     14\u001b[0m )\n",
      "File \u001b[1;32mc:\\Users\\tyand\\miniconda3\\envs\\markov\\lib\\site-packages\\tweepy\\poll.py:48\u001b[0m, in \u001b[0;36mPoll.__init__\u001b[1;34m(self, data)\u001b[0m\n\u001b[0;32m     46\u001b[0m \u001b[39mdef\u001b[39;00m \u001b[39m__init__\u001b[39m(\u001b[39mself\u001b[39m, data):\n\u001b[0;32m     47\u001b[0m     \u001b[39mself\u001b[39m\u001b[39m.\u001b[39mdata \u001b[39m=\u001b[39m data\n\u001b[1;32m---> 48\u001b[0m     \u001b[39mself\u001b[39m\u001b[39m.\u001b[39mid \u001b[39m=\u001b[39m data[\u001b[39m\"\u001b[39;49m\u001b[39mid\u001b[39;49m\u001b[39m\"\u001b[39;49m]\n\u001b[0;32m     49\u001b[0m     \u001b[39mself\u001b[39m\u001b[39m.\u001b[39moptions \u001b[39m=\u001b[39m data[\u001b[39m\"\u001b[39m\u001b[39moptions\u001b[39m\u001b[39m\"\u001b[39m]\n\u001b[0;32m     51\u001b[0m     \u001b[39mself\u001b[39m\u001b[39m.\u001b[39mduration_minutes \u001b[39m=\u001b[39m data\u001b[39m.\u001b[39mget(\u001b[39m\"\u001b[39m\u001b[39mduration_minutes\u001b[39m\u001b[39m\"\u001b[39m)\n",
      "\u001b[1;31mKeyError\u001b[0m: 'id'"
     ]
    }
   ],
   "source": [
    "tw.Poll(\n",
    "    data={\"options\": [\n",
    "                   {\n",
    "                       \"position\": 1,\n",
    "                       \"label\": \"“C Sharp”\",\n",
    "                       \"votes\": 795\n",
    "                   },\n",
    "                   {\n",
    "                       \"position\": 2,\n",
    "                       \"label\": \"“C Hashtag”\",\n",
    "                       \"votes\": 156\n",
    "                   }\n",
    "               ]}\n",
    ")"
   ]
  },
  {
   "cell_type": "code",
   "execution_count": 12,
   "metadata": {},
   "outputs": [
    {
     "name": "stdout",
     "output_type": "stream",
     "text": [
      "{\"errors\":[{\"message\":\"Bad Authentication data\",\"code\":215}]}\n"
     ]
    },
    {
     "name": "stderr",
     "output_type": "stream",
     "text": [
      "  % Total    % Received % Xferd  Average Speed   Time    Time     Time  Current\n",
      "                                 Dload  Upload   Total   Spent    Left  Speed\n",
      "\n",
      "  0     0    0     0    0     0      0      0 --:--:-- --:--:-- --:--:--     0\n",
      "  0     0    0     0    0     0      0      0 --:--:--  0:00:01 --:--:--     0\n",
      "  0     0    0     0    0     0      0      0 --:--:--  0:00:02 --:--:--     0curl: (6) Could not resolve host: POST\n",
      "  % Total    % Received % Xferd  Average Speed   Time    Time     Time  Current\n",
      "                                 Dload  Upload   Total   Spent    Left  Speed\n",
      "\n",
      "  0     0    0     0    0     0      0      0 --:--:-- --:--:-- --:--:--     0\n",
      "100    62  100    62    0     0    356      0 --:--:-- --:--:-- --:--:--   358\n",
      "'first_choice' is not recognized as an internal or external command,\n",
      "operable program or batch file.\n",
      "'second_choice' is not recognized as an internal or external command,\n",
      "operable program or batch file.\n",
      "'media_key' is not recognized as an internal or external command,\n",
      "operable program or batch file.\n",
      "'name' is not recognized as an internal or external command,\n",
      "operable program or batch file.\n"
     ]
    }
   ],
   "source": [
    "! curl POST https://ads-api.twitter.com/12/accounts/18ce54d4x5t/cards/poll?duration_in_minutes=10080&first_choice=East&second_choice=West&name=best coast poll"
   ]
  },
  {
   "cell_type": "code",
   "execution_count": 13,
   "metadata": {},
   "outputs": [
    {
     "name": "stdout",
     "output_type": "stream",
     "text": [
      "{\"errors\":[{\"message\":\"Bad Authentication data\",\"code\":215}]}\n"
     ]
    },
    {
     "name": "stderr",
     "output_type": "stream",
     "text": [
      "  % Total    % Received % Xferd  Average Speed   Time    Time     Time  Current\n",
      "                                 Dload  Upload   Total   Spent    Left  Speed\n",
      "\n",
      "  0     0    0     0    0     0      0      0 --:--:-- --:--:-- --:--:--     0\n",
      "  0     0    0     0    0     0      0      0 --:--:-- --:--:-- --:--:--     0\n",
      "  0     0    0     0    0     0      0      0 --:--:--  0:00:01 --:--:--     0\n",
      "  0     0    0     0    0     0      0      0 --:--:--  0:00:02 --:--:--     0curl: (6) Could not resolve host: POST\n",
      "  % Total    % Received % Xferd  Average Speed   Time    Time     Time  Current\n",
      "                                 Dload  Upload   Total   Spent    Left  Speed\n",
      "\n",
      "  0     0    0     0    0     0      0      0 --:--:-- --:--:-- --:--:--     0\n",
      "100    62  100    62    0     0    702      0 --:--:-- --:--:-- --:--:--   712\n"
     ]
    }
   ],
   "source": [
    "! curl POST https://ads-api-sandbox.twitter.com/12/accounts"
   ]
  },
  {
   "cell_type": "code",
   "execution_count": null,
   "metadata": {},
   "outputs": [],
   "source": []
  }
 ],
 "metadata": {
  "kernelspec": {
   "display_name": "Python 3.9.13 ('markov')",
   "language": "python",
   "name": "python3"
  },
  "language_info": {
   "codemirror_mode": {
    "name": "ipython",
    "version": 3
   },
   "file_extension": ".py",
   "mimetype": "text/x-python",
   "name": "python",
   "nbconvert_exporter": "python",
   "pygments_lexer": "ipython3",
   "version": "3.9.13"
  },
  "orig_nbformat": 4,
  "vscode": {
   "interpreter": {
    "hash": "8de9919d9ee6d279afb6622ff2518c7b8dee6dbf4b41aa6fb61c207c8b7a00a5"
   }
  }
 },
 "nbformat": 4,
 "nbformat_minor": 2
}
